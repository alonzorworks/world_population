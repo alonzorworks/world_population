{
 "cells": [
  {
   "cell_type": "code",
   "execution_count": 2,
   "id": "8dc3868f-1d89-4df3-b987-8a8e1dd7f761",
   "metadata": {},
   "outputs": [],
   "source": [
    "import pandas as pd \n",
    "import plotly.express as px \n",
    "import streamlit as st\n",
    "import numpy as np \n",
    "import math"
   ]
  },
  {
   "cell_type": "code",
   "execution_count": 3,
   "id": "001253ba-e5e3-4de0-814d-c2cd56db3a87",
   "metadata": {},
   "outputs": [
    {
     "data": {
      "text/html": [
       "<div>\n",
       "<style scoped>\n",
       "    .dataframe tbody tr th:only-of-type {\n",
       "        vertical-align: middle;\n",
       "    }\n",
       "\n",
       "    .dataframe tbody tr th {\n",
       "        vertical-align: top;\n",
       "    }\n",
       "\n",
       "    .dataframe thead th {\n",
       "        text-align: right;\n",
       "    }\n",
       "</style>\n",
       "<table border=\"1\" class=\"dataframe\">\n",
       "  <thead>\n",
       "    <tr style=\"text-align: right;\">\n",
       "      <th></th>\n",
       "      <th>no</th>\n",
       "      <th>Country (or dependency)</th>\n",
       "      <th>Population 2020</th>\n",
       "      <th>Yearly Change</th>\n",
       "      <th>Net Change</th>\n",
       "      <th>Density  (P/Km²)</th>\n",
       "      <th>Land Area (Km²)</th>\n",
       "      <th>Migrants (net)</th>\n",
       "      <th>Fert. Rate</th>\n",
       "      <th>Med. Age</th>\n",
       "      <th>Urban Pop %</th>\n",
       "      <th>World Share</th>\n",
       "    </tr>\n",
       "  </thead>\n",
       "  <tbody>\n",
       "    <tr>\n",
       "      <th>0</th>\n",
       "      <td>1</td>\n",
       "      <td>China</td>\n",
       "      <td>1,439,323,776</td>\n",
       "      <td>0.39%</td>\n",
       "      <td>5,540,090</td>\n",
       "      <td>153</td>\n",
       "      <td>9,388,211</td>\n",
       "      <td>-348,399</td>\n",
       "      <td>1.7</td>\n",
       "      <td>38</td>\n",
       "      <td>61%</td>\n",
       "      <td>18.47%</td>\n",
       "    </tr>\n",
       "    <tr>\n",
       "      <th>1</th>\n",
       "      <td>2</td>\n",
       "      <td>India</td>\n",
       "      <td>1,380,004,385</td>\n",
       "      <td>0.99%</td>\n",
       "      <td>13,586,631</td>\n",
       "      <td>464</td>\n",
       "      <td>2,973,190</td>\n",
       "      <td>-532,687</td>\n",
       "      <td>2.2</td>\n",
       "      <td>28</td>\n",
       "      <td>35%</td>\n",
       "      <td>17.70%</td>\n",
       "    </tr>\n",
       "    <tr>\n",
       "      <th>2</th>\n",
       "      <td>3</td>\n",
       "      <td>United States</td>\n",
       "      <td>331,002,651</td>\n",
       "      <td>0.59%</td>\n",
       "      <td>1,937,734</td>\n",
       "      <td>36</td>\n",
       "      <td>9,147,420</td>\n",
       "      <td>954,806</td>\n",
       "      <td>1.8</td>\n",
       "      <td>38</td>\n",
       "      <td>83%</td>\n",
       "      <td>4.25%</td>\n",
       "    </tr>\n",
       "    <tr>\n",
       "      <th>3</th>\n",
       "      <td>4</td>\n",
       "      <td>Indonesia</td>\n",
       "      <td>273,523,615</td>\n",
       "      <td>1.07%</td>\n",
       "      <td>2,898,047</td>\n",
       "      <td>151</td>\n",
       "      <td>1,811,570</td>\n",
       "      <td>-98,955</td>\n",
       "      <td>2.3</td>\n",
       "      <td>30</td>\n",
       "      <td>56%</td>\n",
       "      <td>3.51%</td>\n",
       "    </tr>\n",
       "    <tr>\n",
       "      <th>4</th>\n",
       "      <td>5</td>\n",
       "      <td>Pakistan</td>\n",
       "      <td>220,892,340</td>\n",
       "      <td>2.00%</td>\n",
       "      <td>4,327,022</td>\n",
       "      <td>287</td>\n",
       "      <td>770,880</td>\n",
       "      <td>-233,379</td>\n",
       "      <td>3.6</td>\n",
       "      <td>23</td>\n",
       "      <td>35%</td>\n",
       "      <td>2.83%</td>\n",
       "    </tr>\n",
       "  </tbody>\n",
       "</table>\n",
       "</div>"
      ],
      "text/plain": [
       "   no Country (or dependency) Population 2020 Yearly Change  Net Change  \\\n",
       "0   1                   China   1,439,323,776         0.39%   5,540,090   \n",
       "1   2                   India   1,380,004,385         0.99%  13,586,631   \n",
       "2   3           United States     331,002,651         0.59%   1,937,734   \n",
       "3   4               Indonesia     273,523,615         1.07%   2,898,047   \n",
       "4   5                Pakistan     220,892,340         2.00%   4,327,022   \n",
       "\n",
       "  Density  (P/Km²) Land Area (Km²) Migrants (net) Fert. Rate Med. Age  \\\n",
       "0              153       9,388,211       -348,399        1.7       38   \n",
       "1              464       2,973,190       -532,687        2.2       28   \n",
       "2               36       9,147,420        954,806        1.8       38   \n",
       "3              151       1,811,570        -98,955        2.3       30   \n",
       "4              287         770,880       -233,379        3.6       23   \n",
       "\n",
       "  Urban Pop % World Share  \n",
       "0         61%      18.47%  \n",
       "1         35%      17.70%  \n",
       "2         83%       4.25%  \n",
       "3         56%       3.51%  \n",
       "4         35%       2.83%  "
      ]
     },
     "execution_count": 3,
     "metadata": {},
     "output_type": "execute_result"
    }
   ],
   "source": [
    "# View of the original dataset/dataframe \n",
    "# Will be reimported later to include all of the cleaning in one step.\n",
    "#Viewing the df reminds us whether or not there were percentages in a particular column.\n",
    "df = pd.read_csv(\"world-pop-2020.csv\")\n",
    "df.head()"
   ]
  },
  {
   "cell_type": "code",
   "execution_count": 4,
   "id": "b5563e79-6bf6-4218-8d83-fae18abe24ec",
   "metadata": {},
   "outputs": [],
   "source": [
    "# Original Dataset Credit\n",
    "#https://www.kaggle.com/datasets/muhammedtausif/world-population-by-countries\n",
    "\n",
    "df = pd.read_csv(\"world-pop-2020.csv\")\n",
    "\n",
    "df.rename(columns = {\"Country (or dependency)\": \"Country\", \"Population 2020\": \"Population\", \"Migrants (net)\": \"Net Migration\"}, inplace = True)\n",
    "\n",
    "# Two Lines of code attempt clean up \n",
    "df.replace(\"N.A\", np.nan, inplace = True)\n",
    "df.replace(\"N.A.\", np.nan, inplace = True)\n",
    "#Test replacing blanks with nulls\n",
    "df.replace(\"\", np.nan, inplace = True)\n",
    "\n",
    "\n",
    "\n",
    "pct_remove = [\"World Share\", \"Yearly Change\", \"Urban Pop %\"]\n",
    "comma_fix =  [\"Population\", \"Net Change\", \"Land Area (Km²)\", \"Net Migration\", \"Density  (P/Km²)\"]\n",
    "\n",
    "df.rename(columns = {\"Yearly Change\" : \"Yearly Change %\", \"World Share\" : \"World Share %\", \"Land Area (Km²)\" : \"Land Area (Km^2)\", \"Density  (P/Km²)\": \"Density  (P/Km²)\"})\n",
    "\n",
    "# Gets rid of the percentage signs which helps the code function\n",
    "for i in pct_remove:\n",
    "    df[i] = df[i].str.rstrip(\"%\").astype(\"float\")\n",
    "\n",
    "# Clean up the columns with commas in them. They should all be integers. \n",
    "# Successful Archetypal Code In the lower comment is made into a for loop. \n",
    "#df[\"Population\"] = df[\"Population\"].str.replace(\",\", \"\").astype(\"int\")\n",
    "\n",
    "for i in comma_fix:\n",
    "    df[i] = df[i].str.replace(\",\" , \"\").astype(\"float\").round()\n",
    "    # Floats are used to keep compatibility with the numpy nulls, without further conversion.\n",
    "\n"
   ]
  },
  {
   "cell_type": "code",
   "execution_count": 6,
   "id": "6f75c98b-3490-4c4c-af9d-b9ebd97ac9c2",
   "metadata": {},
   "outputs": [
    {
     "data": {
      "text/html": [
       "<div>\n",
       "<style scoped>\n",
       "    .dataframe tbody tr th:only-of-type {\n",
       "        vertical-align: middle;\n",
       "    }\n",
       "\n",
       "    .dataframe tbody tr th {\n",
       "        vertical-align: top;\n",
       "    }\n",
       "\n",
       "    .dataframe thead th {\n",
       "        text-align: right;\n",
       "    }\n",
       "</style>\n",
       "<table border=\"1\" class=\"dataframe\">\n",
       "  <thead>\n",
       "    <tr style=\"text-align: right;\">\n",
       "      <th></th>\n",
       "      <th>no</th>\n",
       "      <th>Country</th>\n",
       "      <th>Population</th>\n",
       "      <th>Yearly Change</th>\n",
       "      <th>Net Change</th>\n",
       "      <th>Density  (P/Km²)</th>\n",
       "      <th>Land Area (Km²)</th>\n",
       "      <th>Net Migration</th>\n",
       "      <th>Fert. Rate</th>\n",
       "      <th>Med. Age</th>\n",
       "      <th>Urban Pop %</th>\n",
       "      <th>World Share</th>\n",
       "    </tr>\n",
       "  </thead>\n",
       "  <tbody>\n",
       "    <tr>\n",
       "      <th>0</th>\n",
       "      <td>1</td>\n",
       "      <td>China</td>\n",
       "      <td>1.439324e+09</td>\n",
       "      <td>0.39</td>\n",
       "      <td>5540090.0</td>\n",
       "      <td>153.0</td>\n",
       "      <td>9388211.0</td>\n",
       "      <td>-348399.0</td>\n",
       "      <td>1.7</td>\n",
       "      <td>38</td>\n",
       "      <td>61.0</td>\n",
       "      <td>18.47</td>\n",
       "    </tr>\n",
       "    <tr>\n",
       "      <th>1</th>\n",
       "      <td>2</td>\n",
       "      <td>India</td>\n",
       "      <td>1.380004e+09</td>\n",
       "      <td>0.99</td>\n",
       "      <td>13586631.0</td>\n",
       "      <td>464.0</td>\n",
       "      <td>2973190.0</td>\n",
       "      <td>-532687.0</td>\n",
       "      <td>2.2</td>\n",
       "      <td>28</td>\n",
       "      <td>35.0</td>\n",
       "      <td>17.70</td>\n",
       "    </tr>\n",
       "    <tr>\n",
       "      <th>2</th>\n",
       "      <td>3</td>\n",
       "      <td>United States</td>\n",
       "      <td>3.310027e+08</td>\n",
       "      <td>0.59</td>\n",
       "      <td>1937734.0</td>\n",
       "      <td>36.0</td>\n",
       "      <td>9147420.0</td>\n",
       "      <td>954806.0</td>\n",
       "      <td>1.8</td>\n",
       "      <td>38</td>\n",
       "      <td>83.0</td>\n",
       "      <td>4.25</td>\n",
       "    </tr>\n",
       "    <tr>\n",
       "      <th>3</th>\n",
       "      <td>4</td>\n",
       "      <td>Indonesia</td>\n",
       "      <td>2.735236e+08</td>\n",
       "      <td>1.07</td>\n",
       "      <td>2898047.0</td>\n",
       "      <td>151.0</td>\n",
       "      <td>1811570.0</td>\n",
       "      <td>-98955.0</td>\n",
       "      <td>2.3</td>\n",
       "      <td>30</td>\n",
       "      <td>56.0</td>\n",
       "      <td>3.51</td>\n",
       "    </tr>\n",
       "    <tr>\n",
       "      <th>4</th>\n",
       "      <td>5</td>\n",
       "      <td>Pakistan</td>\n",
       "      <td>2.208923e+08</td>\n",
       "      <td>2.00</td>\n",
       "      <td>4327022.0</td>\n",
       "      <td>287.0</td>\n",
       "      <td>770880.0</td>\n",
       "      <td>-233379.0</td>\n",
       "      <td>3.6</td>\n",
       "      <td>23</td>\n",
       "      <td>35.0</td>\n",
       "      <td>2.83</td>\n",
       "    </tr>\n",
       "  </tbody>\n",
       "</table>\n",
       "</div>"
      ],
      "text/plain": [
       "   no        Country    Population  Yearly Change  Net Change  \\\n",
       "0   1          China  1.439324e+09           0.39   5540090.0   \n",
       "1   2          India  1.380004e+09           0.99  13586631.0   \n",
       "2   3  United States  3.310027e+08           0.59   1937734.0   \n",
       "3   4      Indonesia  2.735236e+08           1.07   2898047.0   \n",
       "4   5       Pakistan  2.208923e+08           2.00   4327022.0   \n",
       "\n",
       "   Density  (P/Km²)  Land Area (Km²)  Net Migration Fert. Rate Med. Age  \\\n",
       "0             153.0        9388211.0      -348399.0        1.7       38   \n",
       "1             464.0        2973190.0      -532687.0        2.2       28   \n",
       "2              36.0        9147420.0       954806.0        1.8       38   \n",
       "3             151.0        1811570.0       -98955.0        2.3       30   \n",
       "4             287.0         770880.0      -233379.0        3.6       23   \n",
       "\n",
       "   Urban Pop %  World Share  \n",
       "0         61.0        18.47  \n",
       "1         35.0        17.70  \n",
       "2         83.0         4.25  \n",
       "3         56.0         3.51  \n",
       "4         35.0         2.83  "
      ]
     },
     "execution_count": 6,
     "metadata": {},
     "output_type": "execute_result"
    }
   ],
   "source": [
    "# Check to see how the data was transformed.\n",
    "df.head()"
   ]
  },
  {
   "cell_type": "code",
   "execution_count": null,
   "id": "49c6a661-8a5b-47b3-a91c-713f2e2ac282",
   "metadata": {},
   "outputs": [],
   "source": []
  },
  {
   "cell_type": "code",
   "execution_count": 10,
   "id": "f6b2163a-fc53-442e-80c6-31f93e4f094c",
   "metadata": {},
   "outputs": [],
   "source": [
    "df.to_csv(\"world_population_2020_cleaned.csv\", index = False)"
   ]
  },
  {
   "cell_type": "code",
   "execution_count": 17,
   "id": "3f4ae652-0e88-42b0-9c4c-6d7311d7be29",
   "metadata": {},
   "outputs": [
    {
     "data": {
      "text/plain": [
       "numpy.float64"
      ]
     },
     "execution_count": 17,
     "metadata": {},
     "output_type": "execute_result"
    }
   ],
   "source": [
    "type(df[\"Population\"][0])"
   ]
  },
  {
   "cell_type": "code",
   "execution_count": 18,
   "id": "4de4f2d1-17de-436d-8af6-5c85b3bdd592",
   "metadata": {},
   "outputs": [],
   "source": [
    "population = df[\"Population\"].unique().tolist()"
   ]
  },
  {
   "cell_type": "code",
   "execution_count": 19,
   "id": "ef1595cd-edd4-4262-8182-e311818874ad",
   "metadata": {},
   "outputs": [
    {
     "data": {
      "text/plain": [
       "float"
      ]
     },
     "execution_count": 19,
     "metadata": {},
     "output_type": "execute_result"
    }
   ],
   "source": [
    "type(population[0])"
   ]
  },
  {
   "cell_type": "code",
   "execution_count": 20,
   "id": "ac06a851-8fc6-4aeb-8df4-e55647b97f90",
   "metadata": {},
   "outputs": [
    {
     "name": "stderr",
     "output_type": "stream",
     "text": [
      "2022-07-21 03:01:46.038 \n",
      "  \u001b[33m\u001b[1mWarning:\u001b[0m to view this Streamlit app on a browser, run it with the following\n",
      "  command:\n",
      "\n",
      "    streamlit run C:\\Users\\alonz\\anaconda3\\lib\\site-packages\\ipykernel_launcher.py [ARGUMENTS]\n"
     ]
    }
   ],
   "source": [
    "population_selection = st.slider(\"Choose Population Range:\",\n",
    "min_value = min(population),\n",
    "max_value = max(population),\n",
    "value = (min(population), \n",
    "max(population) )\n",
    ")"
   ]
  },
  {
   "cell_type": "code",
   "execution_count": 21,
   "id": "458781fb-bd14-465e-be49-a21e9239a9e4",
   "metadata": {},
   "outputs": [
    {
     "data": {
      "text/plain": [
       "(801.0, 1439323776.0)"
      ]
     },
     "execution_count": 21,
     "metadata": {},
     "output_type": "execute_result"
    }
   ],
   "source": [
    "population_selection"
   ]
  },
  {
   "cell_type": "code",
   "execution_count": 26,
   "id": "d9774ec2-a0d5-4cb8-9f2b-8eec8d29e665",
   "metadata": {},
   "outputs": [],
   "source": [
    "population_int = [math.floor(item) for item in population]"
   ]
  },
  {
   "cell_type": "code",
   "execution_count": 27,
   "id": "f317c01c-bfb9-4938-9bdc-8c8a433afdee",
   "metadata": {},
   "outputs": [
    {
     "data": {
      "text/plain": [
       "int"
      ]
     },
     "execution_count": 27,
     "metadata": {},
     "output_type": "execute_result"
    }
   ],
   "source": [
    "type(population_int[0])"
   ]
  },
  {
   "cell_type": "code",
   "execution_count": 29,
   "id": "f1947672-d09b-4145-94eb-afb673bd8959",
   "metadata": {},
   "outputs": [
    {
     "data": {
      "text/plain": [
       "str"
      ]
     },
     "execution_count": 29,
     "metadata": {},
     "output_type": "execute_result"
    }
   ],
   "source": [
    "type(df[\"Fert. Rate\"][0])"
   ]
  },
  {
   "cell_type": "code",
   "execution_count": 8,
   "id": "d22375e5-c649-4ba7-991d-027e7399b7b5",
   "metadata": {},
   "outputs": [
    {
     "data": {
      "text/plain": [
       "numpy.float64"
      ]
     },
     "execution_count": 8,
     "metadata": {},
     "output_type": "execute_result"
    }
   ],
   "source": [
    "type(df[\"Density  (P/Km²)\"][0])"
   ]
  },
  {
   "cell_type": "code",
   "execution_count": null,
   "id": "5b8e42a2-b43c-405b-b3d3-67a68be020fb",
   "metadata": {},
   "outputs": [],
   "source": []
  }
 ],
 "metadata": {
  "kernelspec": {
   "display_name": "Python 3 (ipykernel)",
   "language": "python",
   "name": "python3"
  },
  "language_info": {
   "codemirror_mode": {
    "name": "ipython",
    "version": 3
   },
   "file_extension": ".py",
   "mimetype": "text/x-python",
   "name": "python",
   "nbconvert_exporter": "python",
   "pygments_lexer": "ipython3",
   "version": "3.9.7"
  }
 },
 "nbformat": 4,
 "nbformat_minor": 5
}
